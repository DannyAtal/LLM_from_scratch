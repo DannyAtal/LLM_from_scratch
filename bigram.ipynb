{
 "cells": [
  {
   "cell_type": "code",
   "execution_count": 9,
   "metadata": {
    "scrolled": true
   },
   "outputs": [
    {
     "name": "stdout",
     "output_type": "stream",
     "text": [
      "cuda\n"
     ]
    }
   ],
   "source": [
    "import torch\n",
    "import torch.nn as nn\n",
    "from torch.nn import functional as F\n",
    "device = 'cuda' if torch.cuda.is_available() else 'cpu'\n",
    "print(device)\n",
    "block_size = 8\n",
    "batch_size = 4\n",
    "max_iters = 10000\n",
    "# eval_interval = 2500\n",
    "learning_rate = 3e-4\n",
    "eval_iters = 250"
   ]
  },
  {
   "cell_type": "code",
   "execution_count": 10,
   "metadata": {
    "scrolled": true
   },
   "outputs": [
    {
     "name": "stdout",
     "output_type": "stream",
     "text": [
      "['\\n', ' ', '!', '\"', '&', \"'\", '(', ')', '*', ',', '-', '.', '0', '1', '2', '3', '4', '5', '6', '7', '8', '9', ':', ';', '?', 'A', 'B', 'C', 'D', 'E', 'F', 'G', 'H', 'I', 'J', 'K', 'L', 'M', 'N', 'O', 'P', 'Q', 'R', 'S', 'T', 'U', 'V', 'W', 'X', 'Y', 'Z', '[', ']', '_', 'a', 'b', 'c', 'd', 'e', 'f', 'g', 'h', 'i', 'j', 'k', 'l', 'm', 'n', 'o', 'p', 'q', 'r', 's', 't', 'u', 'v', 'w', 'x', 'y', 'z', '\\ufeff']\n"
     ]
    }
   ],
   "source": [
    "with open('wizard_of_oz.txt', 'r', encoding='utf-8') as f:\n",
    "    text = f.read()\n",
    "chars = sorted(set(text))\n",
    "print(chars)\n",
    "vocab_size = len(chars)\n"
   ]
  },
  {
   "cell_type": "code",
   "execution_count": 11,
   "metadata": {},
   "outputs": [],
   "source": [
    "string_to_int = { ch:i for i,ch in enumerate(chars) }\n",
    "int_to_string = { i:ch for i,ch in enumerate(chars) }\n",
    "encode = lambda s: [string_to_int[c] for c in s]\n",
    "decode = lambda l: ''.join([int_to_string[i] for i in l])\n",
    "\n",
    "data = torch.tensor(encode(text), dtype=torch.long)\n",
    "# print(data[:100])\n"
   ]
  },
  {
   "cell_type": "code",
   "execution_count": 12,
   "metadata": {},
   "outputs": [
    {
     "name": "stdout",
     "output_type": "stream",
     "text": [
      "inputs:\n",
      "tensor([[ 1, 73, 61, 54, 73,  1, 59, 62],\n",
      "        [67, 73, 62, 58, 57,  1, 61, 62],\n",
      "        [ 1, 58, 72, 56, 54, 69, 58,  0],\n",
      "        [69, 54, 67, 62, 56,  1, 54, 67]], device='cuda:0')\n",
      "targets:\n",
      "tensor([[73, 61, 54, 73,  1, 59, 62, 72],\n",
      "        [73, 62, 58, 57,  1, 61, 62, 66],\n",
      "        [58, 72, 56, 54, 69, 58,  0, 74],\n",
      "        [54, 67, 62, 56,  1, 54, 67, 57]], device='cuda:0')\n"
     ]
    }
   ],
   "source": [
    "n = int(0.8*len(data))\n",
    "train_data = data[:n]\n",
    "val_data = data[n:]\n",
    "\n",
    "def get_batch(split):\n",
    "    data = train_data if split == 'train' else val_data\n",
    "    ix = torch.randint(len(data) - block_size, (batch_size,))\n",
    "    x = torch.stack([data[i:i+block_size] for i in ix])\n",
    "    y = torch.stack([data[i+1:i+block_size+1] for i in ix])\n",
    "    x, y = x.to(device), y.to(device)\n",
    "    return x, y\n",
    "\n",
    "x, y = get_batch('train')\n",
    "print('inputs:')\n",
    "# print(x.shape)\n",
    "print(x)\n",
    "print('targets:')\n",
    "print(y)\n",
    "\n"
   ]
  },
  {
   "cell_type": "code",
   "execution_count": 13,
   "metadata": {},
   "outputs": [],
   "source": [
    "@torch.no_grad()\n",
    "def estimate_loss():\n",
    "    out = {}\n",
    "    model.eval()\n",
    "    for split in ['train', 'val']:\n",
    "        losses = torch.zeros(eval_iters)\n",
    "        for k in range(eval_iters):\n",
    "            X, Y = get_batch(split)\n",
    "            logits, loss = model(X, Y)\n",
    "            losses[k] = loss.item()\n",
    "        out[split] = losses.mean()\n",
    "    model.train()\n",
    "    return out"
   ]
  },
  {
   "cell_type": "code",
   "execution_count": 14,
   "metadata": {},
   "outputs": [
    {
     "name": "stdout",
     "output_type": "stream",
     "text": [
      "\n",
      "N53D.6B﻿Rdz:XAu&Ionhi]k:i\n",
      "[Np&u*﻿UY*\n",
      "vo.fHVv_﻿PSv2h9uU\"KhH?lTcdvpt?d_*6UR3W?LC):Frdh'Uk6 BkxE0,Se!t\"-F9&\n",
      "m[oi4JYee\n",
      "u**bjVx:8Qu?mo!s_Tqa-aq'.RP?VAh3f&7ZBvuUO QYsv0a7Jd;9sp\n",
      "m,e[iVUlEC)RN-g.RNgMj)KKocueYMn'CP4uleHgEFT;kzVSwb5P]AJ:;gVp][2,!HF!Bos'5?&!fE0sd!UO()yVvTy7rGh7gGL546﻿s?0a9I)y﻿]Fr?BZAzysvX.B ?EtvH9uUq5Wl!T0IU*M:Qu&﻿NU?.SYticJv)tAR;)io\n",
      "jmAmvUr]\"ULl Ww\"L*E;L;9E!2k'0eAQ_5aAZ\n",
      "Q][qWVRK﻿&l QQ]9G7J\"uRticUL.x(EvTq&p EYBE,EN_R*(rXy2﻿P\n",
      "]:;(\"(kJ]2F?jrbiWz&﻿ytv0leNLE0I*.pus[\n",
      "Pd;L-,9w,!w7qB9qCw0_ueNB;l\"\n"
     ]
    }
   ],
   "source": [
    "class BigramLanguageModel(nn.Module):\n",
    "    def __init__(self, vocab_size):\n",
    "        super().__init__()\n",
    "        self.token_embedding_table = nn.Embedding(vocab_size, vocab_size)\n",
    "        \n",
    "    def forward(self, index, targets=None):\n",
    "        logits = self.token_embedding_table(index)\n",
    "        \n",
    "        \n",
    "        if targets is None:\n",
    "            loss = None\n",
    "        else:\n",
    "            B, T, C = logits.shape\n",
    "            logits = logits.view(B*T, C)\n",
    "            targets = targets.view(B*T)\n",
    "            loss = F.cross_entropy(logits, targets)\n",
    "        \n",
    "        return logits, loss\n",
    "    \n",
    "    def generate(self, index, max_new_tokens):\n",
    "        # index is (B, T) array of indices in the current context\n",
    "        for _ in range(max_new_tokens):\n",
    "            # get the predictions\n",
    "            logits, loss = self.forward(index)\n",
    "            # focus only on the last time step\n",
    "            logits = logits[:, -1, :] # becomes (B, C)\n",
    "            # apply softmax to get probabilities\n",
    "            probs = F.softmax(logits, dim=-1) # (B, C)\n",
    "            # sample from the distribution\n",
    "            index_next = torch.multinomial(probs, num_samples=1) # (B, 1)\n",
    "            # append sampled index to the running sequence\n",
    "            index = torch.cat((index, index_next), dim=1) # (B, T+1)\n",
    "        return index\n",
    "\n",
    "model = BigramLanguageModel(vocab_size)\n",
    "m = model.to(device)\n",
    "\n",
    "context = torch.zeros((1,1), dtype=torch.long, device=device)\n",
    "generated_chars = decode(m.generate(context, max_new_tokens=500)[0].tolist())\n",
    "print(generated_chars)\n"
   ]
  },
  {
   "cell_type": "code",
   "execution_count": 15,
   "metadata": {
    "scrolled": true
   },
   "outputs": [
    {
     "name": "stdout",
     "output_type": "stream",
     "text": [
      "step: 0, train loss: 4.760, val loss: 4.747\n",
      "step: 250, train loss: 4.719, val loss: 4.678\n",
      "step: 500, train loss: 4.627, val loss: 4.629\n",
      "step: 750, train loss: 4.563, val loss: 4.564\n",
      "step: 1000, train loss: 4.515, val loss: 4.491\n",
      "step: 1250, train loss: 4.459, val loss: 4.446\n",
      "step: 1500, train loss: 4.395, val loss: 4.383\n",
      "step: 1750, train loss: 4.331, val loss: 4.345\n",
      "step: 2000, train loss: 4.285, val loss: 4.263\n",
      "step: 2250, train loss: 4.230, val loss: 4.221\n",
      "step: 2500, train loss: 4.159, val loss: 4.172\n",
      "step: 2750, train loss: 4.132, val loss: 4.117\n",
      "step: 3000, train loss: 4.088, val loss: 4.053\n",
      "step: 3250, train loss: 4.038, val loss: 4.026\n",
      "step: 3500, train loss: 3.994, val loss: 3.978\n",
      "step: 3750, train loss: 3.943, val loss: 3.925\n",
      "step: 4000, train loss: 3.882, val loss: 3.883\n",
      "step: 4250, train loss: 3.851, val loss: 3.850\n",
      "step: 4500, train loss: 3.807, val loss: 3.798\n",
      "step: 4750, train loss: 3.761, val loss: 3.769\n",
      "step: 5000, train loss: 3.719, val loss: 3.707\n",
      "step: 5250, train loss: 3.664, val loss: 3.686\n",
      "step: 5500, train loss: 3.623, val loss: 3.677\n",
      "step: 5750, train loss: 3.617, val loss: 3.596\n",
      "step: 6000, train loss: 3.582, val loss: 3.569\n",
      "step: 6250, train loss: 3.531, val loss: 3.542\n",
      "step: 6500, train loss: 3.477, val loss: 3.516\n",
      "step: 6750, train loss: 3.471, val loss: 3.455\n",
      "step: 7000, train loss: 3.440, val loss: 3.436\n",
      "step: 7250, train loss: 3.389, val loss: 3.383\n",
      "step: 7500, train loss: 3.344, val loss: 3.371\n",
      "step: 7750, train loss: 3.334, val loss: 3.338\n",
      "step: 8000, train loss: 3.294, val loss: 3.316\n",
      "step: 8250, train loss: 3.276, val loss: 3.280\n",
      "step: 8500, train loss: 3.259, val loss: 3.273\n",
      "step: 8750, train loss: 3.224, val loss: 3.255\n",
      "step: 9000, train loss: 3.199, val loss: 3.219\n",
      "step: 9250, train loss: 3.171, val loss: 3.148\n",
      "step: 9500, train loss: 3.148, val loss: 3.165\n",
      "step: 9750, train loss: 3.120, val loss: 3.117\n",
      "3.128837823867798\n"
     ]
    }
   ],
   "source": [
    "# create a PyTorch optimizer\n",
    "optimizer = torch.optim.AdamW(model.parameters(), lr=learning_rate)\n",
    "\n",
    "for iter in range(max_iters):\n",
    "    if iter % eval_iters == 0:\n",
    "        losses = estimate_loss()\n",
    "        print(f\"step: {iter}, train loss: {losses['train']:.3f}, val loss: {losses['val']:.3f}\")\n",
    "\n",
    "    # sample a batch of data\n",
    "    xb, yb = get_batch('train')\n",
    "\n",
    "    # evaluate the loss\n",
    "    logits, loss = model.forward(xb, yb)\n",
    "    optimizer.zero_grad(set_to_none=True)\n",
    "    loss.backward()\n",
    "    optimizer.step()\n",
    "print(loss.item())"
   ]
  },
  {
   "cell_type": "markdown",
   "metadata": {},
   "source": [
    "***need to familiarize audience with optimizers (AdamW, Adam, SGD, MSE…) no need to jump into the formulas, just what the optimizer does for us and some of the differences/similarities between them***\n",
    "\n",
    "1. **Mean Squared Error (MSE)**: MSE is a common loss function used in regression problems, where the goal is to predict a continuous output. It measures the average squared difference between the predicted and actual values, and is often used to train neural networks for regression tasks.\n",
    "2. **Gradient Descent (GD):**  is an optimization algorithm used to minimize the loss function of a machine learning model. The loss function measures how well the model is able to predict the target variable based on the input features. The idea of GD is to iteratively adjust the model parameters in the direction of the steepest descent of the loss function\n",
    "3. **Momentum**: Momentum is an extension of SGD that adds a \"momentum\" term to the parameter updates. This term helps smooth out the updates and allows the optimizer to continue moving in the right direction, even if the gradient changes direction or varies in magnitude. Momentum is particularly useful for training deep neural networks.\n",
    "4. **RMSprop**: RMSprop is an optimization algorithm that uses a moving average of the squared gradient to adapt the learning rate of each parameter. This helps to avoid oscillations in the parameter updates and can improve convergence in some cases.\n",
    "5. **Adam**: Adam is a popular optimization algorithm that combines the ideas of momentum and RMSprop. It uses a moving average of both the gradient and its squared value to adapt the learning rate of each parameter. Adam is often used as a default optimizer for deep learning models.\n",
    "6. **AdamW**: AdamW is a modification of the Adam optimizer that adds weight decay to the parameter updates. This helps to regularize the model and can improve generalization performance. We will be using the AdamW optimizer as it best suits the properties of the model we will train in this video.\n",
    "\n",
    "find more optimizers and details at torch.optim"
   ]
  },
  {
   "cell_type": "code",
   "execution_count": 8,
   "metadata": {},
   "outputs": [
    {
     "name": "stdout",
     "output_type": "stream",
     "text": [
      "\n",
      "XU.pE1jPWBUC:z-()O\n",
      "Xc*gP]noeJ;'90FuL'7_fKZ*E1bW0y]!f5]*YY&CWMa-GJP8g e NLB\n",
      "MixPBSBldQJPik2KZomADa3H2CV!5oa-,80gvQ,()cwoq-d)hpj?f18QSS;&t!KnBlXcwPreEhIel\"_(DvYa3DpjguaTPBhpNx[C﻿[&:9ogfo70ygrdVE1-cQwoZaEwSj?6(﻿pbTfEmBS 4-*g\n",
      "oc,7\"zHbnJy:kty]f0rwa3jog];']1J]Vie﻿﻿3NhdT3jDa[0]1Q'V*c\n",
      "sR\"YwSPN!Fuv;;WVT.ylXEs wS,8_kW]MyWBuLaWJ!5fzRikjguL9jZNxu!Im5fj:5]I?e m5vdQ_faH;Laqn:0Im2qAizg!0Ijf3j6G:Vkik!*pj?QZojE1Ma1bHT'rYi]ojK'L:Ya3MO;'c[Wr,P1nVnoMP0wldung)7] 0djT,eoUdK!5jUR-[Zn2﻿35U\"Pr&alG,W0wbmQsF73A*8[OuJSjUI5\n"
     ]
    }
   ],
   "source": [
    "context = torch.zeros((1,1), dtype=torch.long, device=device)\n",
    "generated_chars = decode(m.generate(context, max_new_tokens=500)[0].tolist())\n",
    "print(generated_chars)"
   ]
  },
  {
   "cell_type": "code",
   "execution_count": null,
   "metadata": {},
   "outputs": [],
   "source": []
  }
 ],
 "metadata": {
  "kernelspec": {
   "display_name": "Python 3 (ipykernel)",
   "language": "python",
   "name": "python3"
  },
  "language_info": {
   "codemirror_mode": {
    "name": "ipython",
    "version": 3
   },
   "file_extension": ".py",
   "mimetype": "text/x-python",
   "name": "python",
   "nbconvert_exporter": "python",
   "pygments_lexer": "ipython3",
   "version": "3.10.6"
  }
 },
 "nbformat": 4,
 "nbformat_minor": 4
}
